{
 "cells": [
  {
   "cell_type": "code",
   "execution_count": 281,
   "metadata": {},
   "outputs": [],
   "source": [
    "import pandas as pd\n",
    "import numpy as np\n",
    "pd.set_option(\"display.max_rows\", 500)\n",
    "pd.set_option(\"display.max_columns\", 500)"
   ]
  },
  {
   "cell_type": "code",
   "execution_count": 282,
   "metadata": {},
   "outputs": [
    {
     "data": {
      "text/html": [
       "<div>\n",
       "<style scoped>\n",
       "    .dataframe tbody tr th:only-of-type {\n",
       "        vertical-align: middle;\n",
       "    }\n",
       "\n",
       "    .dataframe tbody tr th {\n",
       "        vertical-align: top;\n",
       "    }\n",
       "\n",
       "    .dataframe thead th {\n",
       "        text-align: right;\n",
       "    }\n",
       "</style>\n",
       "<table border=\"1\" class=\"dataframe\">\n",
       "  <thead>\n",
       "    <tr style=\"text-align: right;\">\n",
       "      <th></th>\n",
       "      <th>car_ID</th>\n",
       "      <th>symboling</th>\n",
       "      <th>CarName</th>\n",
       "      <th>fueltype</th>\n",
       "      <th>aspiration</th>\n",
       "      <th>doornumber</th>\n",
       "      <th>carbody</th>\n",
       "      <th>drivewheel</th>\n",
       "      <th>enginelocation</th>\n",
       "      <th>wheelbase</th>\n",
       "      <th>carlength</th>\n",
       "      <th>carwidth</th>\n",
       "      <th>carheight</th>\n",
       "      <th>curbweight</th>\n",
       "      <th>enginetype</th>\n",
       "      <th>cylindernumber</th>\n",
       "      <th>enginesize</th>\n",
       "      <th>fuelsystem</th>\n",
       "      <th>boreratio</th>\n",
       "      <th>stroke</th>\n",
       "      <th>compressionratio</th>\n",
       "      <th>horsepower</th>\n",
       "      <th>peakrpm</th>\n",
       "      <th>citympg</th>\n",
       "      <th>highwaympg</th>\n",
       "      <th>price</th>\n",
       "    </tr>\n",
       "  </thead>\n",
       "  <tbody>\n",
       "    <tr>\n",
       "      <th>0</th>\n",
       "      <td>1</td>\n",
       "      <td>3</td>\n",
       "      <td>alfa-romero giulia</td>\n",
       "      <td>gas</td>\n",
       "      <td>std</td>\n",
       "      <td>two</td>\n",
       "      <td>convertible</td>\n",
       "      <td>rwd</td>\n",
       "      <td>front</td>\n",
       "      <td>88.6</td>\n",
       "      <td>168.8</td>\n",
       "      <td>64.1</td>\n",
       "      <td>48.8</td>\n",
       "      <td>2548</td>\n",
       "      <td>dohc</td>\n",
       "      <td>four</td>\n",
       "      <td>130</td>\n",
       "      <td>mpfi</td>\n",
       "      <td>3.47</td>\n",
       "      <td>2.68</td>\n",
       "      <td>9.0</td>\n",
       "      <td>111</td>\n",
       "      <td>5000</td>\n",
       "      <td>21</td>\n",
       "      <td>27</td>\n",
       "      <td>13495.0</td>\n",
       "    </tr>\n",
       "    <tr>\n",
       "      <th>1</th>\n",
       "      <td>2</td>\n",
       "      <td>3</td>\n",
       "      <td>alfa-romero stelvio</td>\n",
       "      <td>gas</td>\n",
       "      <td>std</td>\n",
       "      <td>two</td>\n",
       "      <td>convertible</td>\n",
       "      <td>rwd</td>\n",
       "      <td>front</td>\n",
       "      <td>88.6</td>\n",
       "      <td>168.8</td>\n",
       "      <td>64.1</td>\n",
       "      <td>48.8</td>\n",
       "      <td>2548</td>\n",
       "      <td>dohc</td>\n",
       "      <td>four</td>\n",
       "      <td>130</td>\n",
       "      <td>mpfi</td>\n",
       "      <td>3.47</td>\n",
       "      <td>2.68</td>\n",
       "      <td>9.0</td>\n",
       "      <td>111</td>\n",
       "      <td>5000</td>\n",
       "      <td>21</td>\n",
       "      <td>27</td>\n",
       "      <td>16500.0</td>\n",
       "    </tr>\n",
       "    <tr>\n",
       "      <th>2</th>\n",
       "      <td>3</td>\n",
       "      <td>1</td>\n",
       "      <td>alfa-romero Quadrifoglio</td>\n",
       "      <td>gas</td>\n",
       "      <td>std</td>\n",
       "      <td>two</td>\n",
       "      <td>hatchback</td>\n",
       "      <td>rwd</td>\n",
       "      <td>front</td>\n",
       "      <td>94.5</td>\n",
       "      <td>171.2</td>\n",
       "      <td>65.5</td>\n",
       "      <td>52.4</td>\n",
       "      <td>2823</td>\n",
       "      <td>ohcv</td>\n",
       "      <td>six</td>\n",
       "      <td>152</td>\n",
       "      <td>mpfi</td>\n",
       "      <td>2.68</td>\n",
       "      <td>3.47</td>\n",
       "      <td>9.0</td>\n",
       "      <td>154</td>\n",
       "      <td>5000</td>\n",
       "      <td>19</td>\n",
       "      <td>26</td>\n",
       "      <td>16500.0</td>\n",
       "    </tr>\n",
       "    <tr>\n",
       "      <th>3</th>\n",
       "      <td>4</td>\n",
       "      <td>2</td>\n",
       "      <td>audi 100 ls</td>\n",
       "      <td>gas</td>\n",
       "      <td>std</td>\n",
       "      <td>four</td>\n",
       "      <td>sedan</td>\n",
       "      <td>fwd</td>\n",
       "      <td>front</td>\n",
       "      <td>99.8</td>\n",
       "      <td>176.6</td>\n",
       "      <td>66.2</td>\n",
       "      <td>54.3</td>\n",
       "      <td>2337</td>\n",
       "      <td>ohc</td>\n",
       "      <td>four</td>\n",
       "      <td>109</td>\n",
       "      <td>mpfi</td>\n",
       "      <td>3.19</td>\n",
       "      <td>3.40</td>\n",
       "      <td>10.0</td>\n",
       "      <td>102</td>\n",
       "      <td>5500</td>\n",
       "      <td>24</td>\n",
       "      <td>30</td>\n",
       "      <td>13950.0</td>\n",
       "    </tr>\n",
       "    <tr>\n",
       "      <th>4</th>\n",
       "      <td>5</td>\n",
       "      <td>2</td>\n",
       "      <td>audi 100ls</td>\n",
       "      <td>gas</td>\n",
       "      <td>std</td>\n",
       "      <td>four</td>\n",
       "      <td>sedan</td>\n",
       "      <td>4wd</td>\n",
       "      <td>front</td>\n",
       "      <td>99.4</td>\n",
       "      <td>176.6</td>\n",
       "      <td>66.4</td>\n",
       "      <td>54.3</td>\n",
       "      <td>2824</td>\n",
       "      <td>ohc</td>\n",
       "      <td>five</td>\n",
       "      <td>136</td>\n",
       "      <td>mpfi</td>\n",
       "      <td>3.19</td>\n",
       "      <td>3.40</td>\n",
       "      <td>8.0</td>\n",
       "      <td>115</td>\n",
       "      <td>5500</td>\n",
       "      <td>18</td>\n",
       "      <td>22</td>\n",
       "      <td>17450.0</td>\n",
       "    </tr>\n",
       "  </tbody>\n",
       "</table>\n",
       "</div>"
      ],
      "text/plain": [
       "   car_ID  symboling                   CarName fueltype aspiration doornumber  \\\n",
       "0       1          3        alfa-romero giulia      gas        std        two   \n",
       "1       2          3       alfa-romero stelvio      gas        std        two   \n",
       "2       3          1  alfa-romero Quadrifoglio      gas        std        two   \n",
       "3       4          2               audi 100 ls      gas        std       four   \n",
       "4       5          2                audi 100ls      gas        std       four   \n",
       "\n",
       "       carbody drivewheel enginelocation  wheelbase  carlength  carwidth  \\\n",
       "0  convertible        rwd          front       88.6      168.8      64.1   \n",
       "1  convertible        rwd          front       88.6      168.8      64.1   \n",
       "2    hatchback        rwd          front       94.5      171.2      65.5   \n",
       "3        sedan        fwd          front       99.8      176.6      66.2   \n",
       "4        sedan        4wd          front       99.4      176.6      66.4   \n",
       "\n",
       "   carheight  curbweight enginetype cylindernumber  enginesize fuelsystem  \\\n",
       "0       48.8        2548       dohc           four         130       mpfi   \n",
       "1       48.8        2548       dohc           four         130       mpfi   \n",
       "2       52.4        2823       ohcv            six         152       mpfi   \n",
       "3       54.3        2337        ohc           four         109       mpfi   \n",
       "4       54.3        2824        ohc           five         136       mpfi   \n",
       "\n",
       "   boreratio  stroke  compressionratio  horsepower  peakrpm  citympg  \\\n",
       "0       3.47    2.68               9.0         111     5000       21   \n",
       "1       3.47    2.68               9.0         111     5000       21   \n",
       "2       2.68    3.47               9.0         154     5000       19   \n",
       "3       3.19    3.40              10.0         102     5500       24   \n",
       "4       3.19    3.40               8.0         115     5500       18   \n",
       "\n",
       "   highwaympg    price  \n",
       "0          27  13495.0  \n",
       "1          27  16500.0  \n",
       "2          26  16500.0  \n",
       "3          30  13950.0  \n",
       "4          22  17450.0  "
      ]
     },
     "execution_count": 282,
     "metadata": {},
     "output_type": "execute_result"
    }
   ],
   "source": [
    "df = pd.read_csv(\"CarPrice.csv\")\n",
    "df.head()"
   ]
  },
  {
   "attachments": {},
   "cell_type": "markdown",
   "metadata": {},
   "source": [
    "`Curb weight` is the weight of the vehicle including a full tank of fuel and all standard equipment\n",
    "\n",
    "`Information about Fuel System` <br><br>\n",
    "MPFI: Multi-Point Fuel Injection. This system injects fuel into each intake port of the engine's cylinder head, delivering fuel to multiple points simultaneously. It provides precise fuel distribution and is commonly found in modern gasoline engines.\n",
    "\n",
    "2BBL: Two-Barrel Carburetor. This refers to a carburetor with two primary fuel barrels or venturis. Each barrel supplies fuel to a set of cylinders in the engine. It was commonly used in older vehicles but has been largely replaced by fuel injection systems.\n",
    "\n",
    "MFI: Multi-Point Fuel Injection. Similar to MPFI, this term also refers to a fuel injection system that injects fuel into multiple points in the intake manifold or cylinder head. It is often used as a general term for multi-point injection systems.\n",
    "\n",
    "1BBL: Single-Barrel Carburetor. This type of carburetor has only one primary fuel barrel or venturi, supplying fuel to all the cylinders in the engine. It was commonly used in older, smaller engines.\n",
    "\n",
    "SPFI: Single-Point Fuel Injection. In this system, a single injector is used to deliver fuel to all the cylinders in the engine. It is typically found in older fuel-injected engines and is less common in modern vehicles.\n",
    "\n",
    "4BBL: Four-Barrel Carburetor. This refers to a carburetor with four primary fuel barrels or venturis, providing fuel to each cylinder individually. It was used in high-performance engines and is now mostly replaced by fuel injection systems.\n",
    "\n",
    "IDI: Indirect Injection. This fuel system uses a pre-chamber or swirl chamber to introduce fuel into the combustion chamber indirectly. It is commonly used in diesel engines and helps with fuel atomization and combustion efficiency.\n",
    "\n",
    "SPDI: Single-Point Direct Injection. This system uses a single fuel injector to directly inject fuel into the combustion chamber or intake port of each cylinder. It is commonly found in some older or less advanced gasoline engines."
   ]
  },
  {
   "cell_type": "code",
   "execution_count": 283,
   "metadata": {},
   "outputs": [
    {
     "data": {
      "text/plain": [
       "array(['mpfi', '2bbl', 'mfi', '1bbl', 'spfi', '4bbl', 'idi', 'spdi'],\n",
       "      dtype=object)"
      ]
     },
     "execution_count": 283,
     "metadata": {},
     "output_type": "execute_result"
    }
   ],
   "source": [
    "df['fuelsystem'].unique()"
   ]
  },
  {
   "cell_type": "code",
   "execution_count": 284,
   "metadata": {},
   "outputs": [
    {
     "data": {
      "text/plain": [
       "array(['std', 'turbo'], dtype=object)"
      ]
     },
     "execution_count": 284,
     "metadata": {},
     "output_type": "execute_result"
    }
   ],
   "source": [
    "df['aspiration'].unique()"
   ]
  },
  {
   "cell_type": "code",
   "execution_count": 285,
   "metadata": {},
   "outputs": [
    {
     "data": {
      "text/plain": [
       "147"
      ]
     },
     "execution_count": 285,
     "metadata": {},
     "output_type": "execute_result"
    }
   ],
   "source": [
    "len(df.CarName.unique())"
   ]
  },
  {
   "cell_type": "code",
   "execution_count": 286,
   "metadata": {},
   "outputs": [
    {
     "data": {
      "text/plain": [
       "Index(['symboling', 'fueltype', 'aspiration', 'doornumber', 'carbody',\n",
       "       'wheelbase', 'carlength', 'carwidth', 'carheight', 'curbweight',\n",
       "       'enginetype', 'cylindernumber', 'enginesize', 'fuelsystem', 'stroke',\n",
       "       'peakrpm', 'citympg', 'highwaympg'],\n",
       "      dtype='object')"
      ]
     },
     "execution_count": 286,
     "metadata": {},
     "output_type": "execute_result"
    }
   ],
   "source": [
    "features = df.drop(['price','CarName', 'car_ID', 'boreratio', \"compressionratio\", 'horsepower', 'enginelocation','drivewheel'], axis=1)\n",
    "target = df.price\n",
    "\n",
    "features.columns\n"
   ]
  },
  {
   "attachments": {},
   "cell_type": "markdown",
   "metadata": {},
   "source": [
    "One hot Encoding"
   ]
  },
  {
   "cell_type": "code",
   "execution_count": 287,
   "metadata": {},
   "outputs": [
    {
     "data": {
      "text/plain": [
       "Index(['symboling', 'wheelbase', 'carlength', 'carwidth', 'carheight',\n",
       "       'curbweight', 'enginesize', 'stroke', 'peakrpm', 'citympg',\n",
       "       'highwaympg', 'fueltype_diesel', 'fueltype_gas', 'aspiration_std',\n",
       "       'aspiration_turbo', 'doornumber_four', 'doornumber_two',\n",
       "       'carbody_convertible', 'carbody_hardtop', 'carbody_hatchback',\n",
       "       'carbody_sedan', 'carbody_wagon', 'enginetype_dohc', 'enginetype_dohcv',\n",
       "       'enginetype_l', 'enginetype_ohc', 'enginetype_ohcf', 'enginetype_ohcv',\n",
       "       'enginetype_rotor', 'cylindernumber_eight', 'cylindernumber_five',\n",
       "       'cylindernumber_four', 'cylindernumber_six', 'cylindernumber_three',\n",
       "       'cylindernumber_twelve', 'cylindernumber_two', 'fuelsystem_1bbl',\n",
       "       'fuelsystem_2bbl', 'fuelsystem_4bbl', 'fuelsystem_idi',\n",
       "       'fuelsystem_mfi', 'fuelsystem_mpfi', 'fuelsystem_spdi',\n",
       "       'fuelsystem_spfi'],\n",
       "      dtype='object')"
      ]
     },
     "execution_count": 287,
     "metadata": {},
     "output_type": "execute_result"
    }
   ],
   "source": [
    "features1 = pd.get_dummies(features)\n",
    "features1.columns"
   ]
  },
  {
   "attachments": {},
   "cell_type": "markdown",
   "metadata": {},
   "source": [
    "### Feature Scaling"
   ]
  },
  {
   "cell_type": "code",
   "execution_count": 288,
   "metadata": {},
   "outputs": [],
   "source": [
    "from sklearn.preprocessing import MinMaxScaler, StandardScaler\n",
    "\n",
    "mms = MinMaxScaler()\n",
    "features2 = mms.fit_transform(features1)\n"
   ]
  },
  {
   "cell_type": "code",
   "execution_count": 289,
   "metadata": {},
   "outputs": [
    {
     "data": {
      "text/plain": [
       "dtype('float64')"
      ]
     },
     "execution_count": 289,
     "metadata": {},
     "output_type": "execute_result"
    }
   ],
   "source": [
    "target.dtype"
   ]
  },
  {
   "attachments": {},
   "cell_type": "markdown",
   "metadata": {},
   "source": [
    "### Split the Feature and target"
   ]
  },
  {
   "cell_type": "code",
   "execution_count": 290,
   "metadata": {},
   "outputs": [
    {
     "name": "stdout",
     "output_type": "stream",
     "text": [
      "X_train, X_test, y_train, y_test (153, 44) (52, 44) (153,) (52,)\n"
     ]
    }
   ],
   "source": [
    "from sklearn.model_selection import train_test_split\n",
    "\n",
    "X_train, X_test, y_train, y_test = train_test_split(features2, target,test_size=0.25, random_state=4)\n",
    "print(\"X_train, X_test, y_train, y_test\", X_train.shape, X_test.shape, y_train.shape, y_test.shape)"
   ]
  },
  {
   "attachments": {},
   "cell_type": "markdown",
   "metadata": {},
   "source": [
    "### Model building"
   ]
  },
  {
   "cell_type": "code",
   "execution_count": 291,
   "metadata": {},
   "outputs": [],
   "source": [
    "from sklearn.ensemble import RandomForestRegressor\n",
    "from sklearn.svm import SVR\n",
    "from sklearn.tree import DecisionTreeRegressor\n",
    "from sklearn.linear_model import LinearRegression\n",
    "from sklearn.metrics import mean_squared_error\n",
    "from lightgbm import LGBMRegressor\n"
   ]
  },
  {
   "attachments": {},
   "cell_type": "markdown",
   "metadata": {},
   "source": [
    "RandomForestRegresorrs"
   ]
  },
  {
   "cell_type": "code",
   "execution_count": 292,
   "metadata": {},
   "outputs": [
    {
     "name": "stdout",
     "output_type": "stream",
     "text": [
      "Predict:  [12872.44666667 13818.58778     6420.82666667 14600.59444667\n",
      " 36658.16333333  8229.84       16824.59557333 15027.96778\n",
      " 14170.12       17016.48666667 14060.32666667 16812.41333333\n",
      "  8787.13333333  6190.06        6197.23333333 29972.05\n",
      "  9159.72        9500.17888889 16563.47000667 14535.26111333\n",
      " 19317.52        6533.58666667  7276.55666667  9212.58111111\n",
      " 15638.00666667  5914.11        7597.60333333  9051.64\n",
      "  7794.40666667  7691.56666667  7068.93666667 16933.99333333\n",
      " 20349.10222667  7407.85666667 16126.84666667 37656.36666667\n",
      " 15393.02       20028.76111333 16590.36666667 12035.06\n",
      "  7358.05333333  7891.43333333  6826.05666667  6598.06666667\n",
      "  7849.46        6048.65333333 12529.27333333 37656.36666667\n",
      "  9899.22666667  6376.08666667 17294.6         7923.62666667]\n",
      "mean squeared error:  4463299.429652724\n"
     ]
    }
   ],
   "source": [
    "clf = RandomForestRegressor(n_estimators=150)\n",
    "clf.fit(X_train, y_train)\n",
    "\n",
    "pred = clf.predict(X_test)\n",
    "print(\"Predict: \",pred)\n",
    "\n",
    "print(\"mean squeared error: \", mean_squared_error(y_test, pred))"
   ]
  },
  {
   "cell_type": "code",
   "execution_count": 293,
   "metadata": {},
   "outputs": [
    {
     "data": {
      "text/plain": [
       "<AxesSubplot:xlabel='price', ylabel='Count'>"
      ]
     },
     "execution_count": 293,
     "metadata": {},
     "output_type": "execute_result"
    },
    {
     "data": {
      "image/png": "[encoded data removed]",
      "text/plain": [
       "<Figure size 432x288 with 1 Axes>"
      ]
     },
     "metadata": {
      "needs_background": "light"
     },
     "output_type": "display_data"
    }
   ],
   "source": [
    "import seaborn as sns\n",
    "\n",
    "sns.histplot(y_test - pred, kde=True) "
   ]
  },
  {
   "cell_type": "code",
   "execution_count": 294,
   "metadata": {},
   "outputs": [],
   "source": [
    "import matplotlib.pyplot as plt"
   ]
  },
  {
   "cell_type": "code",
   "execution_count": 295,
   "metadata": {},
   "outputs": [
    {
     "data": {
      "text/plain": [
       "<BarContainer object of 44 artists>"
      ]
     },
     "execution_count": 295,
     "metadata": {},
     "output_type": "execute_result"
    },
    {
     "data": {
      "image/png": "[encoded data removed]",
      "text/plain": [
       "<Figure size 720x720 with 1 Axes>"
      ]
     },
     "metadata": {
      "needs_background": "light"
     },
     "output_type": "display_data"
    }
   ],
   "source": [
    "plt.figure(figsize=(10,10))\n",
    "plt.barh(features1.columns, clf.feature_importances_)"
   ]
  },
  {
   "cell_type": "code",
   "execution_count": 296,
   "metadata": {},
   "outputs": [
    {
     "name": "stdout",
     "output_type": "stream",
     "text": [
      "Predict:  [10315.13625846 10122.5574721   9386.2110613  10628.82542715\n",
      " 10693.69507055 10128.59938188 10608.75262227 10485.11250711\n",
      " 10093.93145149 10578.30260865 10177.67327623 10218.7720848\n",
      " 10277.54104177  9680.16382654  9680.56984302 10476.9001731\n",
      "  9471.51798983 10354.539284   10565.61081801 10125.95775463\n",
      " 10305.45913557  9375.26692706  9460.10049283  9476.82161398\n",
      " 10482.84286874  9940.85022034  9499.7534913  10118.52523741\n",
      "  9503.46602686 10023.18919206  9484.04820012 10537.15174373\n",
      " 10544.36062807  9500.44952003 10567.3588261  10726.37518564\n",
      " 10234.81810307 10529.18322528 10282.36401676 10130.3664736\n",
      "  9482.8468721   9736.06669446  9475.62142513  9396.1796537\n",
      " 10106.7173958   9373.28523994 10143.0701908  10726.37518564\n",
      " 10124.23267263  9405.85713106 10477.28008237 10011.73146983]\n",
      "mean squeared error:  59500481.07559096\n"
     ]
    }
   ],
   "source": [
    "clf2 = SVR(C=45)\n",
    "clf2.fit(X_train, y_train)\n",
    "\n",
    "pred = clf2.predict(X_test)\n",
    "print(\"Predict: \",pred)\n",
    "\n",
    "print(\"mean squeared error: \", mean_squared_error(y_test, pred))\n"
   ]
  },
  {
   "cell_type": "code",
   "execution_count": 297,
   "metadata": {},
   "outputs": [
    {
     "name": "stdout",
     "output_type": "stream",
     "text": [
      "Predict:  [13495.  14489.   6669.  13499.  28248.   8495.  14489.  15250.  11549.\n",
      " 16503.  16430.  16515.   7975.   6855.   6855.  33278.   9549.   9995.\n",
      " 16558.  14489.  19045.   6488.   6575.   8845.  16630.   5572.   8916.5\n",
      "  9980.   7999.   7299.   6692.  17075.  18920.   7299.  16900.  36880.\n",
      " 12170.  19045.  15985.  11549.   7499.   7775.   6692.   6669.   7775.\n",
      "  5572.  13950.  36880.   9639.   6229.  21105.   7957. ]\n",
      "mean squeared error:  5847379.625\n"
     ]
    }
   ],
   "source": [
    "clf3 = DecisionTreeRegressor()\n",
    "clf3.fit(X_train, y_train)\n",
    "\n",
    "pred = clf3.predict(X_test)\n",
    "print(\"Predict: \",pred)\n",
    "\n",
    "print(\"mean squeared error: \", mean_squared_error(y_test, pred))"
   ]
  },
  {
   "cell_type": "code",
   "execution_count": 300,
   "metadata": {},
   "outputs": [
    {
     "data": {
      "text/plain": [
       "<BarContainer object of 44 artists>"
      ]
     },
     "execution_count": 300,
     "metadata": {},
     "output_type": "execute_result"
    },
    {
     "data": {
      "image/png": "[encoded data removed]",
      "text/plain": [
       "<Figure size 720x720 with 1 Axes>"
      ]
     },
     "metadata": {
      "needs_background": "light"
     },
     "output_type": "display_data"
    }
   ],
   "source": [
    "plt.figure(figsize=(10,10))\n",
    "plt.barh(features1.columns, clf3.feature_importances_)"
   ]
  },
  {
   "cell_type": "code",
   "execution_count": 298,
   "metadata": {},
   "outputs": [
    {
     "name": "stdout",
     "output_type": "stream",
     "text": [
      "Predict:  [13838.36899811 13615.39970306  6424.35506891 16880.27428663\n",
      " 33809.27708537 10087.78333485 19894.42554316 17782.54997364\n",
      " 20544.25059835 22743.89240805 14197.62323388 17955.3472942\n",
      "  8071.5389586   7205.06235047  7253.49694358 28511.74852334\n",
      " 10292.07715502  9920.23194764 20551.87748696 13881.78996518\n",
      " 19191.61949046  5837.60852704  6682.01065983 10300.57604206\n",
      " 18403.28234626  2388.50721978  6795.30619831 14004.57563898\n",
      "  5164.2566488   8057.45824578  6274.10337133 15041.58057811\n",
      " 20839.34898739  6883.09389833 17278.44633803 29910.62126223\n",
      " 15222.97653356 21719.03786612 18578.42665167 15039.83175594\n",
      "  6522.48512893  8747.65626937  6505.89467449  7047.52719939\n",
      "  9613.16199325  5876.95462793 10875.37248158 29910.62126223\n",
      " 14619.05622827  6096.17375578 21526.28290658  7490.78452808]\n",
      "mean squeared error:  5977951.29089106\n"
     ]
    }
   ],
   "source": [
    "clf4 = LinearRegression()\n",
    "clf4.fit(X_train, y_train)\n",
    "\n",
    "pred = clf4.predict(X_test)\n",
    "print(\"Predict: \",pred)\n",
    "\n",
    "print(\"mean squeared error: \", mean_squared_error(y_test, pred))"
   ]
  },
  {
   "attachments": {},
   "cell_type": "markdown",
   "metadata": {},
   "source": [
    "### Hence by considering above model and tuning the parameters, `Random forest Regressor` works best on it"
   ]
  },
  {
   "cell_type": "code",
   "execution_count": 303,
   "metadata": {},
   "outputs": [],
   "source": [
    "# randomized search CV\n",
    "\n",
    "# no. of trees in forest\n",
    "n_estimators = [int(x) for x in np.linspace(start = 100 , stop = 1200, num = 12)]\n",
    "\n",
    "# no. of features to consider at every split\n",
    "max_feature = ['auto','sqrt']\n",
    "\n",
    "#maximum no. of levelsin tree\n",
    "max_depth = [int(x) for x in np.linspace(5,30, num = 6)]\n",
    "\n",
    "#minimum no. of sample required to split a node\n",
    "min_samples_split = [2,5,10,15,100]\n",
    "\n",
    "#min. no. samples required at each leaf node\n",
    "min_samples_leaf = [1,2,5,10]\n",
    "\n",
    "random_grid = {'n_estimators': n_estimators,\n",
    "               'max_features': max_feature,\n",
    "               'max_depth': max_depth,\n",
    "               'min_samples_split': min_samples_split,\n",
    "               'min_samples_leaf': min_samples_leaf\n",
    "              }"
   ]
  },
  {
   "cell_type": "code",
   "execution_count": 304,
   "metadata": {},
   "outputs": [],
   "source": [
    "from sklearn.model_selection import RandomizedSearchCV"
   ]
  },
  {
   "cell_type": "code",
   "execution_count": 305,
   "metadata": {},
   "outputs": [],
   "source": [
    "rf_random = RandomizedSearchCV(estimator= clf, param_distributions= random_grid, scoring='neg_mean_squared_error', n_iter= 10, cv= 5, random_state=42, n_jobs= 1)"
   ]
  },
  {
   "cell_type": "code",
   "execution_count": 306,
   "metadata": {},
   "outputs": [
    {
     "name": "stderr",
     "output_type": "stream",
     "text": [
      "c:\\Users\\pandy\\AppData\\Local\\Programs\\Python\\Python39\\lib\\site-packages\\sklearn\\ensemble\\_forest.py:413: FutureWarning: `max_features='auto'` has been deprecated in 1.1 and will be removed in 1.3. To keep the past behaviour, explicitly set `max_features=1.0` or remove this parameter as it is also the default value for RandomForestRegressors and ExtraTreesRegressors.\n",
      "  warn(\n",
      "c:\\Users\\pandy\\AppData\\Local\\Programs\\Python\\Python39\\lib\\site-packages\\sklearn\\ensemble\\_forest.py:413: FutureWarning: `max_features='auto'` has been deprecated in 1.1 and will be removed in 1.3. To keep the past behaviour, explicitly set `max_features=1.0` or remove this parameter as it is also the default value for RandomForestRegressors and ExtraTreesRegressors.\n",
      "  warn(\n",
      "c:\\Users\\pandy\\AppData\\Local\\Programs\\Python\\Python39\\lib\\site-packages\\sklearn\\ensemble\\_forest.py:413: FutureWarning: `max_features='auto'` has been deprecated in 1.1 and will be removed in 1.3. To keep the past behaviour, explicitly set `max_features=1.0` or remove this parameter as it is also the default value for RandomForestRegressors and ExtraTreesRegressors.\n",
      "  warn(\n",
      "c:\\Users\\pandy\\AppData\\Local\\Programs\\Python\\Python39\\lib\\site-packages\\sklearn\\ensemble\\_forest.py:413: FutureWarning: `max_features='auto'` has been deprecated in 1.1 and will be removed in 1.3. To keep the past behaviour, explicitly set `max_features=1.0` or remove this parameter as it is also the default value for RandomForestRegressors and ExtraTreesRegressors.\n",
      "  warn(\n",
      "c:\\Users\\pandy\\AppData\\Local\\Programs\\Python\\Python39\\lib\\site-packages\\sklearn\\ensemble\\_forest.py:413: FutureWarning: `max_features='auto'` has been deprecated in 1.1 and will be removed in 1.3. To keep the past behaviour, explicitly set `max_features=1.0` or remove this parameter as it is also the default value for RandomForestRegressors and ExtraTreesRegressors.\n",
      "  warn(\n",
      "c:\\Users\\pandy\\AppData\\Local\\Programs\\Python\\Python39\\lib\\site-packages\\sklearn\\ensemble\\_forest.py:413: FutureWarning: `max_features='auto'` has been deprecated in 1.1 and will be removed in 1.3. To keep the past behaviour, explicitly set `max_features=1.0` or remove this parameter as it is also the default value for RandomForestRegressors and ExtraTreesRegressors.\n",
      "  warn(\n",
      "c:\\Users\\pandy\\AppData\\Local\\Programs\\Python\\Python39\\lib\\site-packages\\sklearn\\ensemble\\_forest.py:413: FutureWarning: `max_features='auto'` has been deprecated in 1.1 and will be removed in 1.3. To keep the past behaviour, explicitly set `max_features=1.0` or remove this parameter as it is also the default value for RandomForestRegressors and ExtraTreesRegressors.\n",
      "  warn(\n",
      "c:\\Users\\pandy\\AppData\\Local\\Programs\\Python\\Python39\\lib\\site-packages\\sklearn\\ensemble\\_forest.py:413: FutureWarning: `max_features='auto'` has been deprecated in 1.1 and will be removed in 1.3. To keep the past behaviour, explicitly set `max_features=1.0` or remove this parameter as it is also the default value for RandomForestRegressors and ExtraTreesRegressors.\n",
      "  warn(\n",
      "c:\\Users\\pandy\\AppData\\Local\\Programs\\Python\\Python39\\lib\\site-packages\\sklearn\\ensemble\\_forest.py:413: FutureWarning: `max_features='auto'` has been deprecated in 1.1 and will be removed in 1.3. To keep the past behaviour, explicitly set `max_features=1.0` or remove this parameter as it is also the default value for RandomForestRegressors and ExtraTreesRegressors.\n",
      "  warn(\n",
      "c:\\Users\\pandy\\AppData\\Local\\Programs\\Python\\Python39\\lib\\site-packages\\sklearn\\ensemble\\_forest.py:413: FutureWarning: `max_features='auto'` has been deprecated in 1.1 and will be removed in 1.3. To keep the past behaviour, explicitly set `max_features=1.0` or remove this parameter as it is also the default value for RandomForestRegressors and ExtraTreesRegressors.\n",
      "  warn(\n",
      "c:\\Users\\pandy\\AppData\\Local\\Programs\\Python\\Python39\\lib\\site-packages\\sklearn\\ensemble\\_forest.py:413: FutureWarning: `max_features='auto'` has been deprecated in 1.1 and will be removed in 1.3. To keep the past behaviour, explicitly set `max_features=1.0` or remove this parameter as it is also the default value for RandomForestRegressors and ExtraTreesRegressors.\n",
      "  warn(\n",
      "c:\\Users\\pandy\\AppData\\Local\\Programs\\Python\\Python39\\lib\\site-packages\\sklearn\\ensemble\\_forest.py:413: FutureWarning: `max_features='auto'` has been deprecated in 1.1 and will be removed in 1.3. To keep the past behaviour, explicitly set `max_features=1.0` or remove this parameter as it is also the default value for RandomForestRegressors and ExtraTreesRegressors.\n",
      "  warn(\n",
      "c:\\Users\\pandy\\AppData\\Local\\Programs\\Python\\Python39\\lib\\site-packages\\sklearn\\ensemble\\_forest.py:413: FutureWarning: `max_features='auto'` has been deprecated in 1.1 and will be removed in 1.3. To keep the past behaviour, explicitly set `max_features=1.0` or remove this parameter as it is also the default value for RandomForestRegressors and ExtraTreesRegressors.\n",
      "  warn(\n",
      "c:\\Users\\pandy\\AppData\\Local\\Programs\\Python\\Python39\\lib\\site-packages\\sklearn\\ensemble\\_forest.py:413: FutureWarning: `max_features='auto'` has been deprecated in 1.1 and will be removed in 1.3. To keep the past behaviour, explicitly set `max_features=1.0` or remove this parameter as it is also the default value for RandomForestRegressors and ExtraTreesRegressors.\n",
      "  warn(\n",
      "c:\\Users\\pandy\\AppData\\Local\\Programs\\Python\\Python39\\lib\\site-packages\\sklearn\\ensemble\\_forest.py:413: FutureWarning: `max_features='auto'` has been deprecated in 1.1 and will be removed in 1.3. To keep the past behaviour, explicitly set `max_features=1.0` or remove this parameter as it is also the default value for RandomForestRegressors and ExtraTreesRegressors.\n",
      "  warn(\n",
      "c:\\Users\\pandy\\AppData\\Local\\Programs\\Python\\Python39\\lib\\site-packages\\sklearn\\ensemble\\_forest.py:413: FutureWarning: `max_features='auto'` has been deprecated in 1.1 and will be removed in 1.3. To keep the past behaviour, explicitly set `max_features=1.0` or remove this parameter as it is also the default value for RandomForestRegressors and ExtraTreesRegressors.\n",
      "  warn(\n",
      "c:\\Users\\pandy\\AppData\\Local\\Programs\\Python\\Python39\\lib\\site-packages\\sklearn\\ensemble\\_forest.py:413: FutureWarning: `max_features='auto'` has been deprecated in 1.1 and will be removed in 1.3. To keep the past behaviour, explicitly set `max_features=1.0` or remove this parameter as it is also the default value for RandomForestRegressors and ExtraTreesRegressors.\n",
      "  warn(\n",
      "c:\\Users\\pandy\\AppData\\Local\\Programs\\Python\\Python39\\lib\\site-packages\\sklearn\\ensemble\\_forest.py:413: FutureWarning: `max_features='auto'` has been deprecated in 1.1 and will be removed in 1.3. To keep the past behaviour, explicitly set `max_features=1.0` or remove this parameter as it is also the default value for RandomForestRegressors and ExtraTreesRegressors.\n",
      "  warn(\n",
      "c:\\Users\\pandy\\AppData\\Local\\Programs\\Python\\Python39\\lib\\site-packages\\sklearn\\ensemble\\_forest.py:413: FutureWarning: `max_features='auto'` has been deprecated in 1.1 and will be removed in 1.3. To keep the past behaviour, explicitly set `max_features=1.0` or remove this parameter as it is also the default value for RandomForestRegressors and ExtraTreesRegressors.\n",
      "  warn(\n",
      "c:\\Users\\pandy\\AppData\\Local\\Programs\\Python\\Python39\\lib\\site-packages\\sklearn\\ensemble\\_forest.py:413: FutureWarning: `max_features='auto'` has been deprecated in 1.1 and will be removed in 1.3. To keep the past behaviour, explicitly set `max_features=1.0` or remove this parameter as it is also the default value for RandomForestRegressors and ExtraTreesRegressors.\n",
      "  warn(\n"
     ]
    },
    {
     "data": {
      "text/plain": [
       "3550994.4044272406"
      ]
     },
     "execution_count": 306,
     "metadata": {},
     "output_type": "execute_result"
    }
   ],
   "source": [
    "rf_random.fit(X_train,y_train)\n",
    "\n",
    "pred = rf_random.predict(X_test)\n",
    "\n",
    "mean_squared_error(y_test, pred)\n"
   ]
  },
  {
   "cell_type": "code",
   "execution_count": null,
   "metadata": {},
   "outputs": [],
   "source": []
  },
  {
   "cell_type": "code",
   "execution_count": null,
   "metadata": {},
   "outputs": [],
   "source": []
  }
 ],
 "metadata": {
  "kernelspec": {
   "display_name": "Python 3",
   "language": "python",
   "name": "python3"
  },
  "language_info": {
   "codemirror_mode": {
    "name": "ipython",
    "version": 3
   },
   "file_extension": ".py",
   "mimetype": "text/x-python",
   "name": "python",
   "nbconvert_exporter": "python",
   "pygments_lexer": "ipython3",
   "version": "3.9.6"
  },
  "orig_nbformat": 4
 },
 "nbformat": 4,
 "nbformat_minor": 2
}
